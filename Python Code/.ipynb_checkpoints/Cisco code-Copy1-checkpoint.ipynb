{
 "cells": [
  {
   "cell_type": "code",
   "execution_count": 28,
   "metadata": {
    "collapsed": true
   },
   "outputs": [],
   "source": [
    "import pandas as pd\n",
    "import matplotlib.pyplot as plt\n",
    "%matplotlib inline\n",
    "\n",
    "data= pd.read_csv('/Users/vg/Google Drive/Padhai/Data\\ Science/Cisco\\ Project/File1.csv')\n",
    "\n",
    "producer = ['leaf1', 'leaf2', 'leaf3', 'leaf4', 'leaf5', 'leaf6', 'leaf7', 'leaf8', 'spine1','spine2','spine3',\n",
    "       'spine4']\n",
    "columns = ['input-load','input-packet-rate','input-data-rate','output-load','output-packet-rate','output-data-rate']\n",
    "k=0\n",
    "m=0\n"
   ]
  },
  {
   "cell_type": "code",
   "execution_count": null,
   "metadata": {
    "collapsed": true
   },
   "outputs": [],
   "source": [
    "## File 1"
   ]
  },
  {
   "cell_type": "code",
   "execution_count": null,
   "metadata": {
    "collapsed": true
   },
   "outputs": [],
   "source": [
    "data= pd.read_csv('/Users/vg/Google Drive/Padhai/Data\\ Science/Cisco\\ Project/File1.csv')\n",
    "\n",
    "for i in producer:\n",
    "    temp1 = data[data['Producer'] == i]\n",
    "    for j in columns:\n",
    "        plt.figure()\n",
    "        plt.title(producer[k])\n",
    "        plt.plot(temp1['time'],temp1[j])\n",
    "        plt.ylabel(j)\n",
    "        plt.xlabel('Time')\n",
    "        plt.savefig('/Users/vg/Google Drive/Padhai/Data\\ Science/Cisco\\ Project/%d.png' %m)\n",
    "        m=m+1\n",
    "    k=k+1\n"
   ]
  }
 ],
 "metadata": {
  "kernelspec": {
   "display_name": "Python 3",
   "language": "python",
   "name": "python3"
  },
  "language_info": {
   "codemirror_mode": {
    "name": "ipython",
    "version": 3
   },
   "file_extension": ".py",
   "mimetype": "text/x-python",
   "name": "python",
   "nbconvert_exporter": "python",
   "pygments_lexer": "ipython3",
   "version": "3.6.2"
  }
 },
 "nbformat": 4,
 "nbformat_minor": 2
}
