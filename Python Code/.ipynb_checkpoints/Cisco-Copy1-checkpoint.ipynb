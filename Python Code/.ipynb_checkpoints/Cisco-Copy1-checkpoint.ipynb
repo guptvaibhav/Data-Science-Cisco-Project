{
 "cells": [
  {
   "cell_type": "code",
   "execution_count": null,
   "metadata": {
    "collapsed": true
   },
   "outputs": [],
   "source": [
    "## File 1"
   ]
  },
  {
   "cell_type": "code",
   "execution_count": 2,
   "metadata": {
    "collapsed": true
   },
   "outputs": [],
   "source": [
    "import pandas as pd\n",
    "import numpy as np\n",
    "import matplotlib.pyplot as plt\n",
    "%matplotlib inline"
   ]
  },
  {
   "cell_type": "code",
   "execution_count": 3,
   "metadata": {
    "collapsed": true
   },
   "outputs": [],
   "source": [
    "data = pd.read_csv('C:\\\\Users\\\\manan\\\\Desktop\\\\Data Stuff\\\\Cisco Project\\\\File1.csv')"
   ]
  },
  {
   "cell_type": "code",
   "execution_count": 4,
   "metadata": {},
   "outputs": [
    {
     "data": {
      "text/plain": [
       "array(['leaf6', 'leaf5', 'leaf7', 'leaf3', 'leaf1', 'spine2', 'dr03',\n",
       "       'dr02', 'leaf8', 'leaf2', 'spine3', 'leaf4', 'dr01', 'spine1',\n",
       "       'spine4'], dtype=object)"
      ]
     },
     "execution_count": 4,
     "metadata": {},
     "output_type": "execute_result"
    }
   ],
   "source": [
    "data['Producer'].unique()"
   ]
  },
  {
   "cell_type": "code",
   "execution_count": null,
   "metadata": {},
   "outputs": [],
   "source": [
    "producer = ['leaf1', 'leaf2', 'leaf3', 'leaf4', 'leaf4', 'leaf5', 'leaf6', 'leaf7', 'leaf8', 'spine1','spine2','spine3'\n",
    "       'spine4']\n",
    "\n",
    "columns = ['input-load','input-packet-rate','input-data-rate','output-load','output-packet-rate','output-data-rate']\n",
    "m=0\n",
    "for i in producer:\n",
    "    temp1 = data[data['Producer'] == i]\n",
    "    n=0\n",
    "    for j in columns:\n",
    "        fig,axes = plt.subplots(12,6,figsize=(6,6))\n",
    "        plt.ylabel(j)\n",
    "        plt.xlabel('Time')\n",
    "        axes[m][n].plot(temp1['time'], temp1[j])\n",
    "        n=n+1\n",
    "    m=m+1\n",
    "    if m==12:\n",
    "        break\n",
    "print('nbhj')\n",
    " \n",
    "    "
   ]
  },
  {
   "cell_type": "code",
   "execution_count": null,
   "metadata": {
    "collapsed": true
   },
   "outputs": [],
   "source": [
    "leaf1 = data[data['Producer'] == 'leaf1']\n",
    "plt.plot(leaf1['time'],leaf1['input-load'])\n",
    "\n",
    "plt.plot(leaf1['time'],leaf1['input-packet-rate'])\n",
    "\n",
    "plt.plot(leaf1['time'],leaf1['input-data-rate'])\n",
    "\n",
    "plt.plot(leaf1['time'],leaf1['output-load'])\n",
    "\n",
    "plt.plot(leaf1['time'],leaf1['output-data-rate'])\n",
    "\n",
    "plt.plot(leaf1['time'],leaf1['output-packet-rate'])\n"
   ]
  },
  {
   "cell_type": "code",
   "execution_count": null,
   "metadata": {
    "collapsed": true
   },
   "outputs": [],
   "source": [
    "plt.plot(leaf2['time'],leaf2['input-data-rate'])"
   ]
  },
  {
   "cell_type": "code",
   "execution_count": null,
   "metadata": {
    "collapsed": true
   },
   "outputs": [],
   "source": [
    "leaf2"
   ]
  },
  {
   "cell_type": "code",
   "execution_count": null,
   "metadata": {
    "collapsed": true
   },
   "outputs": [],
   "source": [
    "import pandas as pd\n",
    "import numpy as np \n",
    "import matplotlib.pyplot as plt\n",
    "%matplotlib inline\n",
    "\n",
    "data = pd.read_csv('C:\\\\Users\\\\manan\\\\Desktop\\\\Data Stuff\\\\Cisco Project\\\\File1.csv')\n",
    "\n",
    "x = data[['time']]\n",
    "ip_load = data[['input-load']]\n",
    "ip_pack = data[['input-packet-rate']]\n",
    "ip_data = data[['input-data-rate']]\n",
    "op_data = data[['output-data-rate']]\n",
    "op_load = data[['output-load']]\n",
    "op_pack = data[['output-packet-rate']]\n",
    "\n",
    "plt.plot(x,ip_load)\n",
    "plt.show()\n",
    "plt.figure(figsize=(10, 5), dpi=500, facecolor='w', edgecolor='k')\n",
    "\n",
    "plt.plot(x,ip_pack)\n",
    "plt.show()\n",
    "plt.figure(figsize=(20, 5), dpi=80, facecolor='w', edgecolor='k')\n",
    "\n",
    "plt.plot(x,ip_data)\n",
    "plt.show()\n",
    "plt.figure(figsize=(20, 5), dpi=80, facecolor='w', edgecolor='k')\n",
    "\n",
    "plt.plot(x,op_data)\n",
    "plt.show()\n",
    "plt.figure(figsize=(30, 5), dpi=80, facecolor='w', edgecolor='k')\n",
    "\n",
    "plt.plot(x,op_load)\n",
    "plt.show()\n",
    "plt.figure(figsize=(30, 5), dpi=80, facecolor='w', edgecolor='k')\n",
    "\n",
    "plt.plot(x,op_pack)\n",
    "plt.show()\n",
    "plt.figure(figsize=(30, 5), dpi=80, facecolor='w', edgecolor='k')\n"
   ]
  },
  {
   "cell_type": "code",
   "execution_count": null,
   "metadata": {
    "collapsed": true
   },
   "outputs": [],
   "source": [
    "## File 2"
   ]
  },
  {
   "cell_type": "code",
   "execution_count": null,
   "metadata": {
    "collapsed": true
   },
   "outputs": [],
   "source": [
    "import pandas as pd\n",
    "import numpy as np \n",
    "import matplotlib.pyplot as plt\n",
    "%matplotlib inline\n",
    "\n",
    "data2 = pd.read_csv('C:\\\\Users\\\\manan\\\\Desktop\\\\Data Stuff\\\\Cisco Project\\\\File2.csv')\n",
    "x2 = data2[['time']]\n",
    "ip_load = data2[['input-load']]\n",
    "ip_pack = data2[['input-packet-rate']]\n",
    "ip_data = data2[['input-data-rate']]\n",
    "op_data = data2[['output-data-rate']]\n",
    "op_load = data2[['output-load']]\n",
    "op_pack = data2[['output-packet-rate']]\n",
    "\n",
    "plt.plot(x2,ip_load)\n",
    "plt.show()\n",
    "\n",
    "plt.plot(x2,ip_pack)\n",
    "plt.show()\n",
    "\n",
    "plt.plot(x2,ip_data)\n",
    "plt.show()\n",
    "\n",
    "plt.plot(x2,op_data)\n",
    "plt.show()\n",
    "\n",
    "plt.plot(x2,op_load)\n",
    "plt.show()\n",
    "\n",
    "plt.plot(x2,op_pack)\n",
    "plt.show()"
   ]
  },
  {
   "cell_type": "code",
   "execution_count": null,
   "metadata": {
    "collapsed": true
   },
   "outputs": [],
   "source": [
    "## File 3"
   ]
  },
  {
   "cell_type": "code",
   "execution_count": null,
   "metadata": {
    "collapsed": true
   },
   "outputs": [],
   "source": [
    "import pandas as pd\n",
    "import numpy as np \n",
    "import matplotlib.pyplot as plt\n",
    "%matplotlib inline\n",
    "\n",
    "data2 = pd.read_csv('C:\\\\Users\\\\manan\\\\Desktop\\\\Data Stuff\\\\Cisco Project\\\\File2.csv')\n",
    "x = data2[['time']]\n",
    "ip_load = data2[['input-load']]\n",
    "ip_pack = data2[['input-packet-rate']]\n",
    "ip_data = data2[['input-data-rate']]\n",
    "op_data = data2[['output-data-rate']]\n",
    "op_load = data2[['output-load']]\n",
    "op_pack = data2[['output-packet-rate']]\n",
    "\n",
    "plt.plot(x,ip_load)\n",
    "plt.show()\n",
    "\n",
    "plt.plot(x,ip_pack)\n",
    "plt.show()\n",
    "\n",
    "plt.plot(x,ip_data)\n",
    "plt.show()\n",
    "\n",
    "plt.plot(x,op_data)\n",
    "plt.show()\n",
    "\n",
    "plt.plot(x,op_load)\n",
    "plt.show()\n",
    "\n",
    "plt.plot(x,op_pack)\n",
    "plt.show()"
   ]
  }
 ],
 "metadata": {
  "kernelspec": {
   "display_name": "Python 3",
   "language": "python",
   "name": "python3"
  },
  "language_info": {
   "codemirror_mode": {
    "name": "ipython",
    "version": 3
   },
   "file_extension": ".py",
   "mimetype": "text/x-python",
   "name": "python",
   "nbconvert_exporter": "python",
   "pygments_lexer": "ipython3",
   "version": "3.6.2"
  }
 },
 "nbformat": 4,
 "nbformat_minor": 2
}
