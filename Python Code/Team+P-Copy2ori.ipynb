{
 "cells": [
  {
   "cell_type": "code",
   "execution_count": 46,
   "metadata": {},
   "outputs": [
    {
     "name": "stdout",
     "output_type": "stream",
     "text": [
      "1501868875066000000\n",
      "1501868629618000000\n",
      "21747\n",
      "11286522.2789\n",
      "2257304456.0\n"
     ]
    }
   ],
   "source": [
    "import pandas as pd\n",
    "import numpy as np\n",
    "import matplotlib.pyplot as plt\n",
    "%matplotlib inline\n",
    "\n",
    "data = pd.read_csv('/Users/vg/Google Drive/Padhai/Data Science/Cisco Project/Cisco Team Projects/File 2 Copy.csv')\n",
    "machines = ['leaf1', 'leaf2', 'leaf3', 'leaf4', 'leaf5', 'leaf6', 'leaf7', 'leaf8', 'spine1','spine2','spine3', 'spine4']\n",
    "x = data[['time']]\n",
    "\n",
    "#plt.plot(x,ip_pack)\n",
    "#plt.show()\n",
    "\n",
    "max_time = np.nanmax(x.iloc[:,0].values)\n",
    "min_time = np.nanmin(x.iloc[:,0].values)\n",
    "column_length = np.alen(x.iloc[:,0].values)\n",
    "avg_time_diff = (max_time-min_time)/column_length\n",
    "avg_values = [1547474.42455, 1578985.87091, 1509797.35273, 1339552.94375, 1553978.96555, 1489163.83074, 1686859.13085\n",
    ",1504921.46818, 1205138.73064, 813180.713499, 838182.555127, 789382.634659]\n",
    "print(max_time)\n",
    "print(min_time)\n",
    "print(column_length)\n",
    "print(avg_time_diff)\n",
    "time_interval = round(avg_time_diff*200)\n",
    "print(time_interval)"
   ]
  },
  {
   "cell_type": "code",
   "execution_count": 47,
   "metadata": {
    "scrolled": true
   },
   "outputs": [
    {
     "name": "stdout",
     "output_type": "stream",
     "text": [
      "[0, 0, 0, 0, 0, 0, 0, 0, 0]\n",
      "[0, 0, 13, 0, 0, 0, 0, 0, 0, 0]\n",
      "[0, 0, 0, 0, 0, 0, 0, 0, 0, 0]\n",
      "[0, 0, 0, 1, 0, 0, 0, 0, 0, 0]\n",
      "[0, 0, 9, 9, 9, 9, 9, 9, 9, 9]\n",
      "[0, 17, 13, 12, 12, 12, 12, 12, 12, 12]\n",
      "[0, 17, 6, 6, 6, 6, 5, 5, 5, 5]\n",
      "[0, 0, 9, 10, 10, 10, 10, 10, 10, 10]\n",
      "[0, 0, 1, 1, 1, 1, 1, 0, 1, 27]\n",
      "[0, 0, 0, 0, 3, 0, 0, 0, 0, 0]\n",
      "[0, 0, 6, 0, 0, 0, 0, 0, 0, 0]\n",
      "[0, 0, 0, 0, 0, 0, 0, 0, 0, 0]\n"
     ]
    }
   ],
   "source": [
    "init_time = min_time\n",
    "prob_dict = {'no_machine': 50}\n",
    "count = {}\n",
    "machine_dict = {}\n",
    "instances = 10\n",
    "threshold = 0.7\n",
    "window = column_length/instances\n",
    "c = 0\n",
    "for j in range(0,12):\n",
    "    machine_dict[machines[j]] = {'value' : 0, 'count': 0, 'avg_value': 0, 't_value': 0, 't_count': 0, 'f_count': 0, 'f_count_a': []}\n",
    "    prob_dict[machines[j]] = 50/12\n",
    "    ip_pack = data[[''+machines[j]+ ' input packet rate']]\n",
    "#print (prob_dict)\n",
    "    for i in range(0,column_length-1):\n",
    "    #print(x.iloc[i,0])\n",
    "        c +=1\n",
    "        avg_value = 0\n",
    "        if not np.isnan(ip_pack.iloc[i,0]) and ip_pack.iloc[i,0] >20:\n",
    "            #print(ip_pack.iloc[i,0])\n",
    "            machine_dict[machines[j]]['value'] += ip_pack.iloc[i,0]\n",
    "            machine_dict[machines[j]]['count'] +=1\n",
    "            machine_dict[machines[j]]['t_value'] += ip_pack.iloc[i,0]\n",
    "            machine_dict[machines[j]]['t_count'] += 1\n",
    "            avg_value = machine_dict[machines[j]]['value']/ machine_dict[machines[j]]['count'] if machine_dict[machines[j]]['count'] != 0 else 0\n",
    "            machine_dict[machines[j]]['avg_value'] = machine_dict[machines[j]]['t_value']/machine_dict[machines[j]]['t_count'] if machine_dict[machines[j]]['t_count'] != 0 else 0\n",
    "            if avg_value != 0 and avg_value < threshold * machine_dict[machines[j]]['avg_value']:\n",
    "                machine_dict[machines[j]]['f_count'] += 1\n",
    "        if (c >= window):\n",
    "            c = 0\n",
    "            machine_dict[machines[j]]['value'] = 0\n",
    "            machine_dict[machines[j]]['count'] = 0\n",
    "            machine_dict[machines[j]]['f_count_a'].append(machine_dict[machines[j]]['f_count'])\n",
    "            machine_dict[machines[j]]['f_count'] = 0\n",
    "\n",
    "    print(machine_dict[machines[j]]['f_count_a'])\n",
    "    #print(machine_dict[machines[j]]['avg_value'])"
   ]
  },
  {
   "cell_type": "code",
   "execution_count": null,
   "metadata": {
    "collapsed": true
   },
   "outputs": [],
   "source": []
  }
 ],
 "metadata": {
  "kernelspec": {
   "display_name": "Python 3",
   "language": "python",
   "name": "python3"
  },
  "language_info": {
   "codemirror_mode": {
    "name": "ipython",
    "version": 3
   },
   "file_extension": ".py",
   "mimetype": "text/x-python",
   "name": "python",
   "nbconvert_exporter": "python",
   "pygments_lexer": "ipython3",
   "version": "3.6.2"
  }
 },
 "nbformat": 4,
 "nbformat_minor": 2
}
