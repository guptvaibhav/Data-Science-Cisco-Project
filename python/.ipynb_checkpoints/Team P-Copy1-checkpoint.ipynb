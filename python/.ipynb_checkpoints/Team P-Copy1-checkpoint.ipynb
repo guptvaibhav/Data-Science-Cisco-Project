{
 "cells": [
  {
   "cell_type": "code",
   "execution_count": 22,
   "metadata": {
    "collapsed": true
   },
   "outputs": [],
   "source": [
    "import pandas as pd\n",
    "import numpy as np\n",
    "import matplotlib.pyplot as plt\n",
    "%matplotlib inline\n",
    "\n",
    "data = pd.read_csv('/Users/vg/Google Drive/Padhai/Data Science/Cisco Project/Cisco Team Projects/File 2 Copy.csv')\n",
    "machines = ['leaf1', 'leaf2', 'leaf3', 'leaf4', 'leaf5', 'leaf6', 'leaf7', 'leaf8', 'spine1','spine2','spine3', 'spine4']"
   ]
  },
  {
   "cell_type": "code",
   "execution_count": 23,
   "metadata": {},
   "outputs": [
    {
     "name": "stdout",
     "output_type": "stream",
     "text": [
      "1501868875066000000\n",
      "1501868629618000000\n",
      "21747\n",
      "11286522.2789\n"
     ]
    }
   ],
   "source": [
    "x = data[['time']]\n",
    "\n",
    "#plt.plot(x,ip_pack)\n",
    "#plt.show()\n",
    "\n",
    "max_time = np.nanmax(x.iloc[:,0].values)\n",
    "min_time = np.nanmin(x.iloc[:,0].values)\n",
    "column_length = np.alen(x.iloc[:,0].values)\n",
    "avg_time_diff = (max_time-min_time)/column_length\n",
    "print(max_time)\n",
    "print(min_time)\n",
    "print(column_length)\n",
    "print(avg_time_diff)\n"
   ]
  },
  {
   "cell_type": "code",
   "execution_count": 24,
   "metadata": {},
   "outputs": [
    {
     "name": "stdout",
     "output_type": "stream",
     "text": [
      "2257304456.0\n"
     ]
    }
   ],
   "source": [
    "time_interval = round(avg_time_diff*200)\n",
    "print(time_interval)"
   ]
  },
  {
   "cell_type": "code",
   "execution_count": 25,
   "metadata": {
    "scrolled": false
   },
   "outputs": [
    {
     "name": "stdout",
     "output_type": "stream",
     "text": [
      "42\n",
      "40\n",
      "41\n",
      "43\n",
      "43\n",
      "44\n",
      "42\n",
      "43\n",
      "43\n",
      "38\n",
      "42\n",
      "41\n"
     ]
    }
   ],
   "source": [
    "init_time = min_time\n",
    "prob_dict = {'no_machine': 50}\n",
    "count = {}\n",
    "machine_dict = {}\n",
    "for j in range(0,12):\n",
    "    machine_dict[machines[j]] = {'value' : 0, 'count': 0, 'avg_value': 0, 't_value': 0, 't_count': 0, 'f_count': 0}\n",
    "    prob_dict[machines[j]] = 50/12\n",
    "#print (prob_dict)\n",
    "for i in range(0,column_length-1):\n",
    "    #print(x.iloc[i,0])\n",
    "    for j in range(0,12):\n",
    "        ip_pack = data[[''+machines[j]+ ' input packet rate']]\n",
    "        if not np.isnan(ip_pack.iloc[i,0]):\n",
    "            #print(ip_pack.iloc[i,0])\n",
    "            machine_dict[machines[j]]['value'] += ip_pack.iloc[i,0]\n",
    "            machine_dict[machines[j]]['count'] +=1\n",
    "    if (abs(x.iloc[i,0] - init_time) > time_interval):\n",
    "        init_time = x.iloc[i,0]\n",
    "        for j in range(0,12):\n",
    "            machine_dict[machines[j]]['t_value'] += machine_dict[machines[j]]['value']\n",
    "            machine_dict[machines[j]]['t_count'] += machine_dict[machines[j]]['count']\n",
    "            avg_value = machine_dict[machines[j]]['value']/ machine_dict[machines[j]]['count'] if machine_dict[machines[j]]['count'] != 0 else 0\n",
    "            machine_dict[machines[j]]['avg_value'] = machine_dict[machines[j]]['t_value']/machine_dict[machines[j]]['t_count'] if machine_dict[machines[j]]['t_count'] != 0 else 0\n",
    "            machine_dict[machines[j]]['value'] = 0\n",
    "            machine_dict[machines[j]]['count'] = 0\n",
    "            if (avg_value) < 0.8 * machine_dict[machines[j]]['avg_value']:\n",
    "                machine_dict[machines[j]]['f_count'] += 1\n",
    "        continue\n",
    "for j in range(0,12):\n",
    "    print(machine_dict[machines[j]]['f_count'])"
   ]
  },
  {
   "cell_type": "code",
   "execution_count": 18,
   "metadata": {},
   "outputs": [
    {
     "name": "stdout",
     "output_type": "stream",
     "text": [
      "126\n",
      "122\n",
      "116\n",
      "123\n",
      "117\n",
      "133\n",
      "116\n",
      "117\n",
      "117\n",
      "123\n",
      "123\n",
      "125\n"
     ]
    }
   ],
   "source": []
  },
  {
   "cell_type": "code",
   "execution_count": null,
   "metadata": {
    "collapsed": true
   },
   "outputs": [],
   "source": []
  }
 ],
 "metadata": {
  "kernelspec": {
   "display_name": "Python 3",
   "language": "python",
   "name": "python3"
  },
  "language_info": {
   "codemirror_mode": {
    "name": "ipython",
    "version": 3
   },
   "file_extension": ".py",
   "mimetype": "text/x-python",
   "name": "python",
   "nbconvert_exporter": "python",
   "pygments_lexer": "ipython3",
   "version": "3.6.2"
  }
 },
 "nbformat": 4,
 "nbformat_minor": 2
}
