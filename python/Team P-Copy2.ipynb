{
 "cells": [
  {
   "cell_type": "code",
   "execution_count": 13,
   "metadata": {},
   "outputs": [
    {
     "name": "stdout",
     "output_type": "stream",
     "text": [
      "1501868874784000000\n",
      "1501867007675000000\n",
      "1867109000000\n",
      "11493\n",
      "162456190.725\n",
      "32491238145.0\n"
     ]
    }
   ],
   "source": [
    "import pandas as pd\n",
    "import numpy as np\n",
    "import matplotlib.pyplot as plt\n",
    "%matplotlib inline\n",
    "\n",
    "data = pd.read_csv('/Users/vg/Google Drive/Padhai/Data Science/Cisco Project/Cisco Team Projects/python/CaseC_part3.csv')\n",
    "machines = ['leaf1', 'leaf2', 'leaf3', 'leaf4', 'leaf5', 'leaf6', 'leaf7', 'leaf8', 'spine1','spine2','spine3', 'spine4']\n",
    "d = pd.DataFrame(data)\n",
    "x = d.take([0], axis=1)\n",
    "\n",
    "#plt.plot(x,ip_pack)\n",
    "#plt.show()\n",
    "\n",
    "max_time = np.nanmax(x.iloc[:,0].values)\n",
    "min_time = np.nanmin(x.iloc[:,0].values)\n",
    "column_length = np.alen(x.iloc[:,0].values)\n",
    "avg_time_diff = (max_time-min_time)/column_length\n",
    "avg_values = [1596743.265, 1634756.765, 1568834.763, 1518257.701,1643885.592,1565280.067,1763300.93,1621175.676,1297043.173,898349.6506,966331.1965,899007.0579]\n",
    "print(max_time)\n",
    "print(min_time)\n",
    "print(max_time - min_time)\n",
    "print(column_length)\n",
    "print(avg_time_diff)\n",
    "time_interval = round(avg_time_diff*200)\n",
    "print(time_interval)"
   ]
  },
  {
   "cell_type": "code",
   "execution_count": 132,
   "metadata": {
    "scrolled": true
   },
   "outputs": [
    {
     "name": "stdout",
     "output_type": "stream",
     "text": [
      "[1, 1, 1, 1, 1, 1, 1, 1, 1, 1, 1, 1, 1, 1, 1, 1, 1]\n",
      "[0, 1, 1, 1, 1, 1, 1, 1, 1, 1, 1, 1, 1, 1, 1, 1, 1]\n",
      "[0, 1, 1, 1, 1, 1, 1, 1, 1, 1, 1, 1, 1, 1, 1, 1, 1]\n",
      "[0, 1, 1, 1, 1, 1, 1, 1, 1, 1, 1, 1, 1, 1, 1, 1, 1]\n",
      "[1, 1, 1, 1, 1, 1, 1, 1, 1, 1, 1, 1, 1, 1, 1, 1, 1]\n",
      "[1, 1, 1, 1, 1, 1, 1, 1, 1, 1, 1, 1, 1, 1, 1, 1]\n",
      "[0, 1, 1, 1, 1, 1, 1, 1, 1, 1, 1, 1, 1, 1, 1, 1, 1, 1]\n",
      "[0, 1, 1, 1, 1, 1, 1, 1, 1, 1, 1, 1, 1, 1, 1, 1, 1]\n",
      "[1, 1, 1, 1, 1, 1, 1, 1, 1, 1, 1, 1, 1, 1, 1, 1, 1, 1]\n",
      "[1, 1, 1, 1, 1, 1, 1, 1, 1, 1, 1, 1, 1, 1, 1, 1, 1]\n",
      "[1, 1, 1, 1, 1, 1, 1, 1, 1, 1, 1, 1, 1, 1, 1, 1]\n",
      "[1, 1, 1, 1, 1, 1, 1, 1, 1, 1, 1, 1, 1, 1, 1, 1, 1]\n"
     ]
    }
   ],
   "source": [
    "init_time = min_time\n",
    "prob_dict = {'no_machine': 50}\n",
    "count = {}\n",
    "machine_dict = {}\n",
    "instances = 20\n",
    "threshold = 0.6\n",
    "window = column_length/instances\n",
    "c = 0\n",
    "for j in range(0,12):\n",
    "    machine_dict[machines[j]] = {'value' : 0, 'count': 0, 'avg_value': avg_values[j], 't_value': 0, 't_count': 0, 'f_count': 0, 'f_count_a': []}\n",
    "    prob_dict[machines[j]] = 50/12\n",
    "    ip_pack = data[[''+machines[j]+ ' input packet rate']]\n",
    "#print (prob_dict)\n",
    "    for i in range(0,column_length-1):\n",
    "    #print(x.iloc[i,0])\n",
    "        c +=1\n",
    "        avg_value = 0\n",
    "        if not np.isnan(ip_pack.iloc[i,0]) and ip_pack.iloc[i,0] >20:\n",
    "            #print(ip_pack.iloc[i,0])\n",
    "            machine_dict[machines[j]]['value'] += ip_pack.iloc[i,0]\n",
    "            machine_dict[machines[j]]['count'] +=1\n",
    "            machine_dict[machines[j]]['t_value'] += ip_pack.iloc[i,0]\n",
    "            machine_dict[machines[j]]['t_count'] += 1\n",
    "            avg_value = machine_dict[machines[j]]['value']/ machine_dict[machines[j]]['count'] if machine_dict[machines[j]]['count'] != 0 else 0\n",
    "            #machine_dict[machines[j]]['avg_value'] = machine_dict[machines[j]]['t_value']/machine_dict[machines[j]]['t_count'] if machine_dict[machines[j]]['t_count'] != 0 else 0\n",
    "            \n",
    "        if (c >= window):\n",
    "            if avg_value != 0 and avg_value < threshold * machine_dict[machines[j]]['avg_value']:\n",
    "                machine_dict[machines[j]]['f_count'] += 1\n",
    "            c = 0\n",
    "            machine_dict[machines[j]]['value'] = 0\n",
    "            machine_dict[machines[j]]['count'] = 0\n",
    "            machine_dict[machines[j]]['f_count_a'].append(machine_dict[machines[j]]['f_count'])\n",
    "            machine_dict[machines[j]]['f_count'] = 0\n",
    "\n",
    "    print(machine_dict[machines[j]]['f_count_a'])\n",
    "    #print(machine_dict[machines[j]]['avg_value'])"
   ]
  },
  {
   "cell_type": "code",
   "execution_count": null,
   "metadata": {
    "collapsed": true
   },
   "outputs": [],
   "source": []
  },
  {
   "cell_type": "code",
   "execution_count": null,
   "metadata": {
    "collapsed": true
   },
   "outputs": [],
   "source": []
  }
 ],
 "metadata": {
  "kernelspec": {
   "display_name": "Python 3",
   "language": "python",
   "name": "python3"
  },
  "language_info": {
   "codemirror_mode": {
    "name": "ipython",
    "version": 3
   },
   "file_extension": ".py",
   "mimetype": "text/x-python",
   "name": "python",
   "nbconvert_exporter": "python",
   "pygments_lexer": "ipython3",
   "version": "3.6.2"
  }
 },
 "nbformat": 4,
 "nbformat_minor": 2
}
